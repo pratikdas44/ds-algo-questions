{
 "metadata": {
  "language_info": {
   "codemirror_mode": {
    "name": "ipython",
    "version": 3
   },
   "file_extension": ".py",
   "mimetype": "text/x-python",
   "name": "python",
   "nbconvert_exporter": "python",
   "pygments_lexer": "ipython3",
   "version": "3.8.6"
  },
  "orig_nbformat": 2,
  "kernelspec": {
   "name": "python386jvsc74a57bd00a6e04fbb598999385f20114ff22b803eed3516afc1a619263b541ba4fb7d8a4",
   "display_name": "Python 3.8.6rc1 64-bit (windows store)"
  },
  "metadata": {
   "interpreter": {
    "hash": "0a6e04fbb598999385f20114ff22b803eed3516afc1a619263b541ba4fb7d8a4"
   }
  }
 },
 "nbformat": 4,
 "nbformat_minor": 2,
 "cells": [
  {
   "cell_type": "code",
   "execution_count": 3,
   "metadata": {},
   "outputs": [
    {
     "output_type": "error",
     "ename": "SyntaxError",
     "evalue": "invalid syntax (<ipython-input-3-2afe0dbb5212>, line 1)",
     "traceback": [
      "\u001b[1;36m  File \u001b[1;32m\"<ipython-input-3-2afe0dbb5212>\"\u001b[1;36m, line \u001b[1;32m1\u001b[0m\n\u001b[1;33m    for(int i=0;i<n;i++){\u001b[0m\n\u001b[1;37m            ^\u001b[0m\n\u001b[1;31mSyntaxError\u001b[0m\u001b[1;31m:\u001b[0m invalid syntax\n"
     ]
    }
   ],
   "source": [
    "for(int i=0;i<n;i++){\n",
    "    if(A[i] <= 0 || A[i] > m) continue;\n",
    "    else {\n",
    "        swap(A[i],A[i]-1);\n",
    "        i--;\n",
    "    }\n",
    "}"
   ]
  },
  {
   "cell_type": "code",
   "execution_count": null,
   "metadata": {},
   "outputs": [],
   "source": []
  }
 ]
}